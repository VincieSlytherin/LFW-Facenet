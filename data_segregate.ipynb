{
 "cells": [
  {
   "cell_type": "code",
   "execution_count": 1,
   "metadata": {},
   "outputs": [],
   "source": [
    "import os\n",
    "import time\n",
    "import torch\n",
    "from shutil import copyfile\n",
    "from torchvision import transforms"
   ]
  },
  {
   "cell_type": "code",
   "execution_count": 3,
   "metadata": {},
   "outputs": [],
   "source": [
    "train_dir = './train'\n",
    "dev_dir = './dev'\n",
    "test_dir = 'test'\n",
    "dir_path = './lfw-aligned'"
   ]
  },
  {
   "cell_type": "code",
   "execution_count": 8,
   "metadata": {},
   "outputs": [],
   "source": [
    "class DataSegregate:\n",
    "    def __init__(self, dir_path, train_dir, dev_dir, test_dir):\n",
    "        self.labels = None\n",
    "        self.dir_path = dir_path\n",
    "        self.train_dir = train_dir\n",
    "        self.dev_dir = dev_dir\n",
    "        self.test_dir = test_dir\n",
    "        self.images_dict = {}\n",
    "        self.train_dict = {}\n",
    "        self.dev_dict = {}\n",
    "        self.test_dict = {}\n",
    "        self.train_count = 0\n",
    "        self.dev_count = 0\n",
    "        self.test_count = 0\n",
    "        self.total_count = 0\n",
    "        self.make_dict()\n",
    "        self.split()\n",
    "        self.make_dirs()\n",
    "        \n",
    "    def make_dict(self):\n",
    "        self.labels = os.listdir(self.dir_path)\n",
    "        for label in self.labels:\n",
    "            path = os.path.join(self.dir_path, label)\n",
    "            if 'DS_Store' in path:\n",
    "                continue\n",
    "            images = os.listdir(path)\n",
    "            count = len(images)\n",
    "            if count >= 20 and count <= 30:\n",
    "                self.images_dict[label] = images\n",
    "                self.total_count += count\n",
    "    \n",
    "    def split(self):\n",
    "        for label, image_list in self.images_dict.items():\n",
    "            num_images = len(image_list)\n",
    "            hist = torch.histc(torch.range(0,num_images-1), bins = 2, min=0, max=num_images-1)\n",
    "            num_train, num_dev_test = hist.type(torch.LongTensor).tolist()\n",
    "            # make sure num_train = 80%, num_dev = num_test = 10%\n",
    "            num_train, num_dev, num_test = self.even_split(num_train, num_dev_test)\n",
    "            self.train_count += num_train\n",
    "            self.dev_count += num_dev\n",
    "            self.test_count += num_test\n",
    "            self.train_dict[label] = image_list[:num_train]\n",
    "            self.dev_dict[label] = image_list[num_train:num_train+num_dev]\n",
    "            self.test_dict[label] = image_list[num_train+num_dev:]\n",
    "    \n",
    "    def even_split(self, num_train, num_dev_test):\n",
    "        while num_dev_test/(num_train + num_dev_test) > 0.2 and num_dev_test > 2:\n",
    "            num_dev_test -= 1\n",
    "            num_train += 1\n",
    "        hist = torch.histc(torch.range(0,num_dev_test-1), bins = 2, min=0, max=num_dev_test-1)\n",
    "        num_dev, num_test = hist.type(torch.LongTensor).tolist()\n",
    "        return num_train, num_dev, num_test\n",
    "    \n",
    "    def copy_files(self, data_dict, dir_output):\n",
    "        if not os.path.exists(dir_output):\n",
    "            os.makedirs(dir_output)\n",
    "        \n",
    "        for label, image_list in data_dict.items():\n",
    "            label_path_target = os.path.join(dir_output, label)\n",
    "            label_path_source = os.path.join(self.dir_path, label)\n",
    "            if not os.path.exists(label_path_target):\n",
    "                os.makedirs(label_path_target)\n",
    "            for image in image_list:\n",
    "                source_path = os.path.join(label_path_source, image)\n",
    "                target_path = os.path.join(label_path_target, image)\n",
    "                copyfile(source_path, target_path)\n",
    "    \n",
    "    def make_dirs(self):\n",
    "        self.copy_files(self.train_dict, train_dir)\n",
    "        self.copy_files(self.dev_dict, dev_dir)\n",
    "        self.copy_files(self.test_dict, test_dir)"
   ]
  },
  {
   "cell_type": "code",
   "execution_count": 9,
   "metadata": {},
   "outputs": [
    {
     "name": "stderr",
     "output_type": "stream",
     "text": [
      "/opt/anaconda3/lib/python3.7/site-packages/ipykernel_launcher.py:35: UserWarning: torch.range is deprecated in favor of torch.arange and will be removed in 0.5. Note that arange generates values in [start; end), not [start; end].\n",
      "/opt/anaconda3/lib/python3.7/site-packages/ipykernel_launcher.py:50: UserWarning: torch.range is deprecated in favor of torch.arange and will be removed in 0.5. Note that arange generates values in [start; end), not [start; end].\n"
     ]
    },
    {
     "name": "stdout",
     "output_type": "stream",
     "text": [
      "cost time: 0.3979511260986328 s\n"
     ]
    }
   ],
   "source": [
    "tic = time.time()\n",
    "data_seg = DataSegregate(dir_path, train_dir, dev_dir, test_dir)\n",
    "toc = time.time()\n",
    "print('cost time: '+str(toc-tic)+' s')"
   ]
  },
  {
   "cell_type": "code",
   "execution_count": 10,
   "metadata": {},
   "outputs": [
    {
     "data": {
      "text/plain": [
       "(581, 62, 70)"
      ]
     },
     "execution_count": 10,
     "metadata": {},
     "output_type": "execute_result"
    }
   ],
   "source": [
    "data_seg.train_count, data_seg.dev_count, data_seg.test_count"
   ]
  },
  {
   "cell_type": "code",
   "execution_count": 11,
   "metadata": {},
   "outputs": [
    {
     "data": {
      "text/plain": [
       "(0.814866760168303, 0.08695652173913043, 0.09817671809256662)"
      ]
     },
     "execution_count": 11,
     "metadata": {},
     "output_type": "execute_result"
    }
   ],
   "source": [
    "data_seg.train_count/data_seg.total_count, data_seg.dev_count/data_seg.total_count, data_seg.test_count/data_seg.total_count"
   ]
  },
  {
   "cell_type": "code",
   "execution_count": null,
   "metadata": {},
   "outputs": [],
   "source": []
  }
 ],
 "metadata": {
  "kernelspec": {
   "display_name": "Python 3",
   "language": "python",
   "name": "python3"
  },
  "language_info": {
   "codemirror_mode": {
    "name": "ipython",
    "version": 3
   },
   "file_extension": ".py",
   "mimetype": "text/x-python",
   "name": "python",
   "nbconvert_exporter": "python",
   "pygments_lexer": "ipython3",
   "version": "3.7.4"
  }
 },
 "nbformat": 4,
 "nbformat_minor": 2
}
